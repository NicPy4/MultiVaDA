{
 "cells": [
  {
   "cell_type": "markdown",
   "id": "3913b5c0",
   "metadata": {},
   "source": [
    "**INTRODUCTION**"
   ]
  },
  {
   "cell_type": "markdown",
   "id": "bb75e7a7",
   "metadata": {},
   "source": [
    "This notebook focuses on analyzing a California housing dataset to predict house values using two advanced regression techniques: Principal Component Regression (PCR) and Partial Least Squares Regression (PLSR). The main purpose is to address and mitigate multicollinearity, a common issue in regression models where predictor variables are highly correlated, leading to unstable and unreliable coefficient estimates. Throughout the analysis, we will first detect multicollinearity using the Variance Inflation Factor (VIF), then apply PCR and PLSR to reduce dimensionality and improve model performance. By the end of the notebook, we will compare the results of both methods, assessing their ability to predict house prices accurately while handling multicollinearity.\n",
    "\n",
    "Author: Tsaqif Wismadi"
   ]
  },
  {
   "cell_type": "markdown",
   "id": "aecab018",
   "metadata": {},
   "source": [
    "**0. Import libraries**"
   ]
  },
  {
   "cell_type": "code",
   "execution_count": 7,
   "id": "4975031e",
   "metadata": {},
   "outputs": [],
   "source": [
    "# Step 1: Import necessary libraries\n",
    "import pandas as pd\n",
    "import numpy as np\n",
    "from sklearn.model_selection import train_test_split\n",
    "from sklearn.preprocessing import StandardScaler, OneHotEncoder\n",
    "from sklearn.decomposition import PCA\n",
    "from sklearn.cross_decomposition import PLSRegression\n",
    "from sklearn.linear_model import LinearRegression\n",
    "from sklearn.pipeline import Pipeline\n",
    "from sklearn.metrics import mean_squared_error, r2_score\n",
    "from statsmodels.stats.outliers_influence import variance_inflation_factor"
   ]
  },
  {
   "cell_type": "markdown",
   "id": "ef0c5709",
   "metadata": {},
   "source": [
    "**1. Data preparation**"
   ]
  },
  {
   "cell_type": "code",
   "execution_count": 8,
   "id": "f0b107d9",
   "metadata": {},
   "outputs": [],
   "source": [
    "# Step 2: Load and preprocess the data\n",
    "df = pd.read_csv('housing.csv')\n",
    "\n",
    "# Handle missing values (fill missing bedrooms with median)\n",
    "df['total_bedrooms'].fillna(df['total_bedrooms'].median(), inplace=True)\n",
    "\n",
    "# Convert categorical variable into dummy variables\n",
    "df = pd.get_dummies(df, drop_first=True)\n",
    "\n",
    "# Step 3: Separate predictors and target variable\n",
    "X = df.drop('median_house_value', axis=1)\n",
    "y = df['median_house_value']"
   ]
  },
  {
   "cell_type": "code",
   "execution_count": 9,
   "id": "d32e82ea",
   "metadata": {},
   "outputs": [
    {
     "data": {
      "text/html": [
       "<div>\n",
       "<style scoped>\n",
       "    .dataframe tbody tr th:only-of-type {\n",
       "        vertical-align: middle;\n",
       "    }\n",
       "\n",
       "    .dataframe tbody tr th {\n",
       "        vertical-align: top;\n",
       "    }\n",
       "\n",
       "    .dataframe thead th {\n",
       "        text-align: right;\n",
       "    }\n",
       "</style>\n",
       "<table border=\"1\" class=\"dataframe\">\n",
       "  <thead>\n",
       "    <tr style=\"text-align: right;\">\n",
       "      <th></th>\n",
       "      <th>longitude</th>\n",
       "      <th>latitude</th>\n",
       "      <th>housing_median_age</th>\n",
       "      <th>total_rooms</th>\n",
       "      <th>total_bedrooms</th>\n",
       "      <th>population</th>\n",
       "      <th>households</th>\n",
       "      <th>median_income</th>\n",
       "      <th>median_house_value</th>\n",
       "      <th>ocean_proximity_INLAND</th>\n",
       "      <th>ocean_proximity_ISLAND</th>\n",
       "      <th>ocean_proximity_NEAR BAY</th>\n",
       "      <th>ocean_proximity_NEAR OCEAN</th>\n",
       "    </tr>\n",
       "  </thead>\n",
       "  <tbody>\n",
       "    <tr>\n",
       "      <th>0</th>\n",
       "      <td>-122.23</td>\n",
       "      <td>37.88</td>\n",
       "      <td>41.0</td>\n",
       "      <td>880.0</td>\n",
       "      <td>129.0</td>\n",
       "      <td>322.0</td>\n",
       "      <td>126.0</td>\n",
       "      <td>8.3252</td>\n",
       "      <td>452600.0</td>\n",
       "      <td>0</td>\n",
       "      <td>0</td>\n",
       "      <td>1</td>\n",
       "      <td>0</td>\n",
       "    </tr>\n",
       "    <tr>\n",
       "      <th>1</th>\n",
       "      <td>-122.22</td>\n",
       "      <td>37.86</td>\n",
       "      <td>21.0</td>\n",
       "      <td>7099.0</td>\n",
       "      <td>1106.0</td>\n",
       "      <td>2401.0</td>\n",
       "      <td>1138.0</td>\n",
       "      <td>8.3014</td>\n",
       "      <td>358500.0</td>\n",
       "      <td>0</td>\n",
       "      <td>0</td>\n",
       "      <td>1</td>\n",
       "      <td>0</td>\n",
       "    </tr>\n",
       "    <tr>\n",
       "      <th>2</th>\n",
       "      <td>-122.24</td>\n",
       "      <td>37.85</td>\n",
       "      <td>52.0</td>\n",
       "      <td>1467.0</td>\n",
       "      <td>190.0</td>\n",
       "      <td>496.0</td>\n",
       "      <td>177.0</td>\n",
       "      <td>7.2574</td>\n",
       "      <td>352100.0</td>\n",
       "      <td>0</td>\n",
       "      <td>0</td>\n",
       "      <td>1</td>\n",
       "      <td>0</td>\n",
       "    </tr>\n",
       "    <tr>\n",
       "      <th>3</th>\n",
       "      <td>-122.25</td>\n",
       "      <td>37.85</td>\n",
       "      <td>52.0</td>\n",
       "      <td>1274.0</td>\n",
       "      <td>235.0</td>\n",
       "      <td>558.0</td>\n",
       "      <td>219.0</td>\n",
       "      <td>5.6431</td>\n",
       "      <td>341300.0</td>\n",
       "      <td>0</td>\n",
       "      <td>0</td>\n",
       "      <td>1</td>\n",
       "      <td>0</td>\n",
       "    </tr>\n",
       "    <tr>\n",
       "      <th>4</th>\n",
       "      <td>-122.25</td>\n",
       "      <td>37.85</td>\n",
       "      <td>52.0</td>\n",
       "      <td>1627.0</td>\n",
       "      <td>280.0</td>\n",
       "      <td>565.0</td>\n",
       "      <td>259.0</td>\n",
       "      <td>3.8462</td>\n",
       "      <td>342200.0</td>\n",
       "      <td>0</td>\n",
       "      <td>0</td>\n",
       "      <td>1</td>\n",
       "      <td>0</td>\n",
       "    </tr>\n",
       "  </tbody>\n",
       "</table>\n",
       "</div>"
      ],
      "text/plain": [
       "   longitude  latitude  housing_median_age  total_rooms  total_bedrooms  \\\n",
       "0    -122.23     37.88                41.0        880.0           129.0   \n",
       "1    -122.22     37.86                21.0       7099.0          1106.0   \n",
       "2    -122.24     37.85                52.0       1467.0           190.0   \n",
       "3    -122.25     37.85                52.0       1274.0           235.0   \n",
       "4    -122.25     37.85                52.0       1627.0           280.0   \n",
       "\n",
       "   population  households  median_income  median_house_value  \\\n",
       "0       322.0       126.0         8.3252            452600.0   \n",
       "1      2401.0      1138.0         8.3014            358500.0   \n",
       "2       496.0       177.0         7.2574            352100.0   \n",
       "3       558.0       219.0         5.6431            341300.0   \n",
       "4       565.0       259.0         3.8462            342200.0   \n",
       "\n",
       "   ocean_proximity_INLAND  ocean_proximity_ISLAND  ocean_proximity_NEAR BAY  \\\n",
       "0                       0                       0                         1   \n",
       "1                       0                       0                         1   \n",
       "2                       0                       0                         1   \n",
       "3                       0                       0                         1   \n",
       "4                       0                       0                         1   \n",
       "\n",
       "   ocean_proximity_NEAR OCEAN  \n",
       "0                           0  \n",
       "1                           0  \n",
       "2                           0  \n",
       "3                           0  \n",
       "4                           0  "
      ]
     },
     "execution_count": 9,
     "metadata": {},
     "output_type": "execute_result"
    }
   ],
   "source": [
    "df.head(5)"
   ]
  },
  {
   "cell_type": "markdown",
   "id": "a50c45bd",
   "metadata": {},
   "source": [
    "**Variables explanation:**\n",
    "\n",
    "1. longitude: A measure of how far west a house is; a higher value is farther west\n",
    "2. latitude: A measure of how far north a house is; a higher value is farther north\n",
    "3. housingMedianAge: Median age of a house within a block; a lower number is a newer building\n",
    "4. totalRooms: Total number of rooms within a block\n",
    "5. totalBedrooms: Total number of bedrooms within a block\n",
    "6. population: Total number of people residing within a block\n",
    "7. households: Total number of households, a group of people residing within a home unit, for a block\n",
    "8. medianIncome: Median income for households within a block of houses (measured in tens of thousands of US Dollars)\n",
    "9. medianHouseValue: Median house value for households within a block (measured in US Dollars)\n",
    "10. oceanProximity: Location of the house w.r.t ocean/sea"
   ]
  },
  {
   "cell_type": "markdown",
   "id": "f02fc6f4",
   "metadata": {},
   "source": [
    "**2. Initial multicollinearity detection using VIF**"
   ]
  },
  {
   "cell_type": "code",
   "execution_count": 10,
   "id": "64277962",
   "metadata": {},
   "outputs": [
    {
     "name": "stdout",
     "output_type": "stream",
     "text": [
      "Variance Inflation Factor (VIF) to detect multicollinearity:\n",
      "          VIF                     Feature\n",
      "0   18.028444                   longitude\n",
      "1   19.925764                    latitude\n",
      "2    1.321927          housing_median_age\n",
      "3   12.349114                 total_rooms\n",
      "4   27.040073              total_bedrooms\n",
      "5    6.342122                  population\n",
      "6   28.315383                  households\n",
      "7    1.740468               median_income\n",
      "8    2.853630      ocean_proximity_INLAND\n",
      "9    1.002039      ocean_proximity_ISLAND\n",
      "10   1.565746    ocean_proximity_NEAR BAY\n",
      "11   1.197133  ocean_proximity_NEAR OCEAN\n"
     ]
    }
   ],
   "source": [
    "# Step 4: Multicollinearity detection using VIF (Before handling with PCR and PLSR)\n",
    "scaler = StandardScaler()\n",
    "X_scaled = scaler.fit_transform(X)\n",
    "\n",
    "# Calculate VIF for each feature\n",
    "vif = pd.DataFrame()\n",
    "vif['VIF'] = [variance_inflation_factor(X_scaled, i) for i in range(X_scaled.shape[1])]\n",
    "vif['Feature'] = X.columns\n",
    "\n",
    "# Display the VIFs (High VIF indicates multicollinearity)\n",
    "print(\"Variance Inflation Factor (VIF) to detect multicollinearity:\")\n",
    "print(vif)"
   ]
  },
  {
   "cell_type": "markdown",
   "id": "34dc096c",
   "metadata": {},
   "source": [
    "**3. Conducting PCR**"
   ]
  },
  {
   "cell_type": "code",
   "execution_count": 11,
   "id": "6d52adb7",
   "metadata": {
    "scrolled": true
   },
   "outputs": [
    {
     "name": "stdout",
     "output_type": "stream",
     "text": [
      "\n",
      "PCR Results (Multicollinearity handled by selecting 10 principal components):\n",
      "MSE: 4969958348.151292\n",
      "R-squared: 0.6207322728494282\n"
     ]
    }
   ],
   "source": [
    "# Step 5: Split data into training and test sets\n",
    "X_train, X_test, y_train, y_test = train_test_split(X, y, test_size=0.2, random_state=42)\n",
    "\n",
    "# Step 6: PCR (Principal Component Regression) - addressing multicollinearity\n",
    "# PCR works by applying PCA to eliminate multicollinearity (keeping a reduced number of components)\n",
    "# We handle multicollinearity by reducing to the first few principal components\n",
    "\n",
    "# Standardize the data\n",
    "scaler = StandardScaler()\n",
    "X_train_scaled = scaler.fit_transform(X_train)\n",
    "X_test_scaled = scaler.transform(X_test)\n",
    "\n",
    "# Create a pipeline for PCR\n",
    "pca = PCA(n_components=10)  # Reduce to 10 components (can tune this)\n",
    "pcr = Pipeline(steps=[('pca', pca), ('regressor', LinearRegression())])\n",
    "\n",
    "# Fit the PCR model\n",
    "pcr.fit(X_train_scaled, y_train)\n",
    "\n",
    "# Predict and evaluate the PCR model\n",
    "y_pred_pcr = pcr.predict(X_test_scaled)\n",
    "mse_pcr = mean_squared_error(y_test, y_pred_pcr)\n",
    "r2_pcr = r2_score(y_test, y_pred_pcr)\n",
    "\n",
    "print(\"\\nPCR Results (Multicollinearity handled by selecting 10 principal components):\")\n",
    "print(f'MSE: {mse_pcr}')\n",
    "print(f'R-squared: {r2_pcr}')"
   ]
  },
  {
   "cell_type": "markdown",
   "id": "fd386fdb",
   "metadata": {},
   "source": [
    "**4. Conducting PLSR**"
   ]
  },
  {
   "cell_type": "code",
   "execution_count": 12,
   "id": "b8eec495",
   "metadata": {},
   "outputs": [
    {
     "name": "stdout",
     "output_type": "stream",
     "text": [
      "\n",
      "PLSR Results (Multicollinearity handled by selecting 10 latent variables):\n",
      "MSE: 4889438275.137577\n",
      "R-squared: 0.626876924965732\n"
     ]
    }
   ],
   "source": [
    "# Step 7: PLSR (Partial Least Squares Regression) - addressing multicollinearity\n",
    "# PLSR handles multicollinearity by finding new components (latent variables) based on both predictors and response\n",
    "# We handle multicollinearity by keeping a reduced number of latent variables\n",
    "\n",
    "# Create a PLSR model\n",
    "pls = PLSRegression(n_components=10)  # Reduce to 10 components (can tune this)\n",
    "\n",
    "# Fit the PLSR model\n",
    "pls.fit(X_train_scaled, y_train)\n",
    "\n",
    "# Predict and evaluate the PLSR model\n",
    "y_pred_pls = pls.predict(X_test_scaled)\n",
    "mse_pls = mean_squared_error(y_test, y_pred_pls)\n",
    "r2_pls = r2_score(y_test, y_pred_pls)\n",
    "\n",
    "print(\"\\nPLSR Results (Multicollinearity handled by selecting 10 latent variables):\")\n",
    "print(f'MSE: {mse_pls}')\n",
    "print(f'R-squared: {r2_pls}')"
   ]
  },
  {
   "cell_type": "markdown",
   "id": "ebd02c8d",
   "metadata": {},
   "source": [
    "**CONCLUSION**"
   ]
  },
  {
   "cell_type": "markdown",
   "id": "deb5b72b",
   "metadata": {},
   "source": [
    "In this analysis of the California housing dataset, we examined how various factors such as location, housing structure, population, and income influence median house values. The dataset revealed significant multicollinearity, particularly among geographical variables like longitude and latitude, as well as structural variables such as total rooms, total bedrooms, and households. These variables exhibited high VIF scores, indicating that they provide redundant information and could distort the accuracy of a standard linear regression model. Through dimensionality reduction using PCR and PLSR, we successfully addressed this multicollinearity by reducing the predictors into fewer, uncorrelated components that captured the most significant variance in house prices.\n",
    "\n",
    "When comparing the two regression methods, PLSR slightly outperformed PCR, achieving a better R-squared score (0.627 vs. 0.621) and a lower mean squared error. PLSR's ability to optimize components based on both the predictors and the response variable allowed it to more effectively capture relationships between features like median income, ocean proximity, and house values. Both models significantly improved prediction stability by reducing multicollinearity, but PLSR’s consideration of the target variable during component creation gave it a slight edge in performance. Overall, both methods proved effective, but PLSR may offer better predictive accuracy in cases where multicollinearity is present and a strong relationship between predictors and the target needs to be preserved."
   ]
  }
 ],
 "metadata": {
  "kernelspec": {
   "display_name": "Python 3 (ipykernel)",
   "language": "python",
   "name": "python3"
  },
  "language_info": {
   "codemirror_mode": {
    "name": "ipython",
    "version": 3
   },
   "file_extension": ".py",
   "mimetype": "text/x-python",
   "name": "python",
   "nbconvert_exporter": "python",
   "pygments_lexer": "ipython3",
   "version": "3.10.9"
  }
 },
 "nbformat": 4,
 "nbformat_minor": 5
}
