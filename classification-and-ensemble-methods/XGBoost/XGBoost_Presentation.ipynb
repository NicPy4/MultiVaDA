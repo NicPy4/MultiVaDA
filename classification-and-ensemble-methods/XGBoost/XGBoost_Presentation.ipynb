{
 "cells": [
  {
   "cell_type": "markdown",
   "id": "f163df30",
   "metadata": {
    "slideshow": {
     "slide_type": "slide"
    }
   },
   "source": [
    "\n",
    "# **Extreme Gradient Boosting**\n",
    "### TK8117 – Week 07 - Topic 2\n",
    "\n",
    "_Amanda Ledell, Azimil Gani Alam, Simen Dymbe, Torstein Nordgård-Hansen, Giacomo Melloni and Johan Suarez_\n",
    "\n",
    "04.10.2024  \n",
    "Colloquium / Hands-On"
   ]
  },
  {
   "cell_type": "markdown",
   "id": "9aa5cc12",
   "metadata": {
    "slideshow": {
     "slide_type": "slide"
    }
   },
   "source": [
    "<!-- Outline Section -->\n",
    "<div style=\"background-color: #e3f2fd; padding: 30px; border-radius: 10px; box-shadow: 0px 4px 10px rgba(0,0,0,0.1);\">\n",
    "  <h1 style=\"font-size: 48px; text-align: center; color: #1565c0; margin-bottom: 30px;\"><strong>Outline</strong></h1>\n",
    "  \n",
    "  <!-- List of outline points -->\n",
    "  <ul style=\"font-size: 24px; list-style-type: none; padding-left: 0; line-height: 1.8;\">\n",
    "    <li style=\"margin-bottom: 15px;\"><strong>📋 Intro to Decision Trees</strong></li>\n",
    "    <li style=\"margin-bottom: 15px;\"><strong>🌳 What is a Boosting Algorithm?</strong></li>\n",
    "    <li style=\"margin-bottom: 15px;\"><strong>🚀 What is an Extreme Gradient Boosting Algorithm (XGBoost)?</strong></li>\n",
    "    <li style=\"margin-bottom: 15px;\"><strong>💡 Why is XGBoost So Popular?</strong></li>\n",
    "    <li style=\"margin-bottom: 15px;\"><strong>⚖️ Pros and Cons</strong></li>\n",
    "    <li style=\"margin-bottom: 15px;\"><strong>🔧 How Do You Use XGBoost?</strong></li>\n",
    "    <li style=\"margin-bottom: 15px;\"><strong>⚠️ When Should You Not Use XGBoost?</strong></li>\n",
    "    <li style=\"margin-bottom: 15px;\"><strong>📝 Key Takeaways</strong></li>\n",
    "  </ul>\n",
    "</div>\n"
   ]
  },
  {
   "cell_type": "markdown",
   "id": "ba283e9b",
   "metadata": {
    "slideshow": {
     "slide_type": "slide"
    }
   },
   "source": [
    "<h2 style=\"font-size: 48px; margin-bottom: 20px; text-align: left; color: #1565c0;\">XGBoost: Historical</h2>\n",
    "\n",
    "<!-- Separate div to center the image only -->\n",
    "<div style=\"width: 1200px; margin:auto; text-align: center;\">\n",
    "  <img src=\"History.png\" alt=\"Insert Image Here\" style=\"width: 100%; height: auto;\">\n",
    "</div>\n"
   ]
  },
  {
   "cell_type": "markdown",
   "id": "8affe0a1",
   "metadata": {
    "slideshow": {
     "slide_type": "slide"
    }
   },
   "source": [
    "<h2 style=\"font-size: 48px; margin-bottom: 20px; color: #1565c0;\">Decision Tree Classifiers</h2>\n",
    "<div style=\"display: flex; align-items: center; justify-content: space-between;\">\n",
    "  <!-- Left side for text -->\n",
    "  <div style=\"width: 55%; font-size: 32px; margin-top: 8%\">\n",
    "    <ul>\n",
    "      <li>Tree of simple decisions</li>\n",
    "      <li>Each node chosen by <i>some</i> metric</li>\n",
    "      <li>Continuous variables discretely segmented</li>\n",
    "      <li>Bounded depth and information gain</li>\n",
    "      <li>Classification and regression act the same</li>\n",
    "      <li> Tends to overfit the data 😢 </li>\n",
    "    </ul>\n",
    "  </div>\n",
    "\n",
    "  <!-- Right side for image -->\n",
    "  <div style=\"width: 45%; text-align: right;\">\n",
    "    <img src=\"DecisionTree.png\" alt=\"Insert Image Here\" style=\"width: 100%; height: auto;\">\n",
    "  </div>\n",
    "</div>\n"
   ]
  },
  {
   "cell_type": "markdown",
   "id": "0ae105a7",
   "metadata": {
    "slideshow": {
     "slide_type": "slide"
    }
   },
   "source": [
    "<h2 style=\"font-size: 48px; margin-bottom: 10px; color: #1565c0;\">Boosting Algorithms in a Nutshell</h2>\n",
    "<div style=\"display: flex; align-items: center; justify-content: space-between;\">\n",
    "  <!-- Left side for text -->\n",
    "  <div style=\"width: 45%; font-size: 28px; margin-top:12%\">\n",
    "    <ul>\n",
    "      <li>Multi-tree algorithms: boosting and bagging</li>        \n",
    "      <li>Combines several simple trees (weak learners)</li>\n",
    "      <li>Sequential approach </li>\n",
    "      <li>Train new trees based on the results (errors) of previous trees</li>\n",
    "    </ul>\n",
    "  </div>\n",
    "\n",
    "  <!-- Right side for image -->\n",
    "  <div style=\"width: 55%; text-align: right;\">\n",
    "    <img src=\"Boosting.png\" alt=\"Insert Image Here\" style=\"max-width: 100%; height: auto;\">\n",
    "  </div>\n",
    "</div>\n"
   ]
  },
  {
   "cell_type": "markdown",
   "id": "84b7f521",
   "metadata": {
    "slideshow": {
     "slide_type": "slide"
    }
   },
   "source": [
    "<!-- Title at the top -->\n",
    "<h1 style=\"font-size: 48px; text-align: left; margin-bottom: 10px; color: #1565c0;\">Gradient Boosting</h1>\n",
    "\n",
    "<!-- Flex container for text and image -->\n",
    "<div style=\"display: flex; align-items: center;\">\n",
    "  <!-- Left Side: Text Content -->\n",
    "  <div style=\"width: 47%; padding-right: 2px; margin-top: 12%\">\n",
    "    <ul style=\"font-size: 28px;\">\n",
    "        <li> <b>Given a specific problem, how far off is the tree? </b> </li>\n",
    "        <li>Trains the next tree to predict previous residuals</li>\n",
    "        <li>Uses <i> psudeo</i> residuals to compute new trees</li>        \n",
    "        <li>Scale residuals to iteratively approach ideal case</li>\n",
    "        <li> Minimizes some loss function</li>\n",
    "        <li>Classifications re-coded as one-hot</li>\n",
    "        <li>Sum up prediction and residuals per sample</li>\n",
    "    </ul>\n",
    "  </div>\n",
    "\n",
    "  <!-- Right side for image -->\n",
    "  <div style=\"width: 45%; text-align: left; margin-bottom: 30px\">\n",
    "    <img src=\"GradientBoost.png\" alt=\"Insert Image Here\" style=\"max-width: 120%; height: auto;\">\n",
    "  </div>\n",
    "</div>"
   ]
  },
  {
   "cell_type": "markdown",
   "id": "20c0dbe2",
   "metadata": {
    "slideshow": {
     "slide_type": "slide"
    }
   },
   "source": [
    "<div style=\"background-color: #f4f6f8; padding: 40px; border-radius: 12px; box-shadow: 0px 4px 8px rgba(0,0,0,0.1);\">\n",
    "  <h2 style=\"font-size: 48px; color: #2e7d32; text-align: center; margin-bottom: 30px;\"><strong>Motivation for XGBoost</strong></h2>\n",
    "  \n",
    "  <!-- Introduction text -->\n",
    "  <p style=\"font-size: 28px; margin-bottom: 20px; text-align: left;\"><strong>What if it was:</strong></p>\n",
    "  \n",
    "  <!-- Main list with subtle color styling, left-aligned -->\n",
    "  <ul style=\"font-size: 26px; list-style-type: none; padding-left: 20px; line-height: 1.8; text-align: left;\">\n",
    "    <li style=\"margin-bottom: 20px;\"><strong style=\"color: #1565c0;\">Better</strong>?</li>\n",
    "    <li style=\"margin-bottom: 20px;\"><strong style=\"color: #1e88e5;\">Faster</strong>?</li>\n",
    "    <li style=\"margin-bottom: 20px;\"><strong style=\"color: #43a047;\">Well implemented</strong>?</li>\n",
    "    <li style=\"margin-bottom: 20px;\"><strong style=\"color: #d32f2f;\">Actively regularized</strong>?</li>\n",
    "  </ul>\n",
    "</div>\n"
   ]
  },
  {
   "cell_type": "markdown",
   "id": "1fa25174",
   "metadata": {
    "slideshow": {
     "slide_type": "slide"
    }
   },
   "source": [
    "<!-- Slide Heading -->\n",
    "<h2 style=\"font-size: 48px; text-align: center; margin-bottom: 10px; color: #1e90ff; font-weight: 600;\">\n",
    "    What is XGBoost?\n",
    "</h2>\n",
    "\n",
    "<!-- Definition Section in a Box with Background Color -->\n",
    "<div style=\"background-color: #f0f8ff; padding: 15px; border-radius: 10px; margin-bottom: 20px; border: 1px solid #1e90ff;\">\n",
    "    <p style=\"font-size: 28px; text-align: left; color: #34495e; margin: 0;\">\n",
    "        <strong style=\"color: #1e90ff;\">Definition:</strong> \n",
    "        XGBoost (Extreme Gradient Boosting) is a highly scalable gradient tree boosting algorithm designed to enhance performance with built-in regularization to prevent overfitting.\n",
    "    </p>\n",
    "</div>\n",
    "\n",
    "<!-- Title for Key Features Section -->\n",
    "<p style=\"font-size: 28px; text-align: left; margin-bottom: 0px; color: #34495e;\">\n",
    "    <strong style=\"color: #1e90ff;\">Key Features:</strong>\n",
    "</p> \n",
    "\n",
    "<!-- Key Features List with less spacing -->\n",
    "<ul style=\"font-size: 26px; margin-bottom: 10px; list-style-type: none; padding-left: 0;\">\n",
    "    <li style=\"margin-bottom: 5px;\">\n",
    "        <span style=\"color: #2ecc71;\">✔</span> Shrinkage & Tree Pruning\n",
    "    </li>\n",
    "    <li style=\"margin-bottom: 5px;\">\n",
    "        <span style=\"color: #2ecc71;\">✔</span> Depth Regularization\n",
    "    </li>\n",
    "    <li style=\"margin-bottom: 5px;\">\n",
    "        <span style=\"color: #2ecc71;\">✔</span> Weight Regularization (L1 & L2), Gamma & Sub-sampling\n",
    "    </li>\n",
    "</ul>\n",
    "\n",
    "<!-- Section Offering XGBoost Capabilities -->\n",
    "<p style=\"font-size: 28px; text-align: left; margin-bottom: 0px; color: #34495e;\">\n",
    "    <strong style=\"color: #1e90ff;\">It offers:</strong>\n",
    "</p>\n",
    "\n",
    "<!-- Capabilities List with less spacing -->\n",
    "<ul style=\"font-size: 26px; margin-bottom: 20px; list-style-type: none; padding-left: 0;\">\n",
    "    <li style=\"margin-bottom: 5px;\">\n",
    "        <span style=\"color: #1e90ff;\">⚡</span> Distributed training on a cluster of machines for large models\n",
    "    </li>\n",
    "    <li style=\"margin-bottom: 5px;\">\n",
    "        <span style=\"color: #1e90ff;\">⚡</span> Faster training via parallel construction on CPU cores & Out-of-Core computing\n",
    "    </li>\n",
    "    <li style=\"margin-bottom: 5px;\">\n",
    "        <span style=\"color: #1e90ff;\">⚡</span> Tree pruning during regularization\n",
    "    </li>\n",
    "</ul>\n",
    "\n",
    "<!-- Separate div to center the image -->\n",
    "<div style=\"width: 800px; margin:auto;\">\n",
    "    <img src=\"Pruning.png\" alt=\"Insert Image Here\" style=\"width: 100%; height: auto;\">\n",
    "</div>\n"
   ]
  },
  {
   "cell_type": "markdown",
   "id": "bba2a5e5",
   "metadata": {
    "slideshow": {
     "slide_type": "slide"
    }
   },
   "source": [
    "<div style=\"background-color: #e3f2fd; padding: 30px; border-radius: 10px; box-shadow: 0px 4px 10px rgba(0,0,0,0.1);\">\n",
    "  <h2 style=\"font-size: 48px; text-align: center; color: #1565c0; margin-bottom: 25px;\"><strong>What Makes XGBoost Stand Out?</strong></h2>\n",
    "\n",
    "  <!-- Combined section with key points and innovation s -->\n",
    "  <ul style=\"font-size: 24px; line-height: 1.8; padding-left: 0; list-style-type: none;\">\n",
    "    <li style=\"margin-bottom: 15px;\"><strong style=\"color: #0d47a1;\">Objective Function:</strong> Minimizes a loss function and includes regularization terms to prevent overfitting.</li>\n",
    "    <li style=\"margin-bottom: 15px;\"><strong style=\"color: #0d47a1;\">Key Innovations:</strong> Regularization (L1, L2), parallel computing, tree pruning, and handling missing data.</li>\n",
    "    <li style=\"margin-bottom: 15px;\"><strong style=\"color: #0d47a1;\">Base Learners:</strong> Decision trees serve as the base learners.</li>\n",
    "    <li style=\"margin-bottom: 15px;\"><strong style=\"color: #0d47a1;\">Additive Training:</strong> Each new tree minimizes the residuals (errors) of the previous tree.</li>\n",
    "    <li style=\"margin-bottom: 15px;\"><strong style=\"color: #0d47a1;\">Comparison with Decision Trees & RandomForest:</strong> XGBoost is faster, uses optimized algorithms, and includes regularization.</li>\n",
    "    \n",
    "  </ul>\n",
    "</div>\n"
   ]
  },
  {
   "cell_type": "markdown",
   "id": "dbaaf899",
   "metadata": {
    "slideshow": {
     "slide_type": "slide"
    }
   },
   "source": [
    "<!-- Slide Heading -->\n",
    "<h2 style=\"margin-bottom: 20px; text-align: center; color: #1565c0; font-size: 48px;\"><strong>Critical Parameters for Tuning</strong></h2>\n",
    "\n",
    "<!-- Parameters List inside a Background Box -->\n",
    "<div style=\"background-color: #f1f8e9; padding: 15px; border-radius: 10px; margin-bottom: 20px; border: 1px solid #8bc34a;\">\n",
    "    <p style=\"font-size: 26px; line-height: 1.8; text-align: left; margin: 0;\">\n",
    "        1. <strong>η</strong>: ETA or “Learning Rate” <br>\n",
    "        2. <strong>max_depth</strong>: Controls the height of the tree via splits <br>\n",
    "        3. <strong>γ</strong>: Minimum required loss for the model to justify a split <br>\n",
    "        4. <strong>λ</strong>: L2 (Ridge) regularization on variable weights\n",
    "    </p>\n",
    "</div>\n",
    "\n",
    "<!-- Source Link with increased font size -->\n",
    "<p style=\"font-size: 14px; margin-bottom: 20px; text-align: left; margin-left: 5%;\">\n",
    "    <a href=\"http://dx.doi.org/10.3390/app10186593\" target=\"_blank\" style=\"color: #1565c0;\">Source</a>\n",
    "</p>\n",
    "\n",
    "<!-- Separate div to center the image -->\n",
    "<div style=\"width: 800px; margin:auto;\">\n",
    "    <img src=\"Workings.png\" alt=\"Insert Image Here\" style=\"width: 100%; height: auto;\">\n",
    "</div>\n"
   ]
  },
  {
   "cell_type": "markdown",
   "id": "03605dcb",
   "metadata": {
    "slideshow": {
     "slide_type": "slide"
    }
   },
   "source": [
    "<div style=\"background-color: #f0f4f8; padding: 30px; border-radius: 10px; box-shadow: 0px 4px 10px rgba(0,0,0,0.1);\">\n",
    "  <h2 style=\"font-size: 48px; text-align: center; color: #1565c0; margin-bottom: 25px;\"><strong>Why is it so popular?</strong></h2>\n",
    "  \n",
    "  <ul style=\"font-size: 28px; line-height: 1.8; padding-left: 0; list-style-type: none;\">\n",
    "    <li style=\"margin-bottom: 15px;\"><strong style=\"color: #0d47a1;\">Active:</strong> XGBoost <strong>open source</strong> development</li>\n",
    "    <li style=\"margin-bottom: 15px;\"><strong style=\"color: #0d47a1;\">Flexibility:</strong> regression, classification, ranking, missing data, etc.</li>\n",
    "    <li style=\"margin-bottom: 15px;\"><strong style=\"color: #0d47a1;\">Portability:</strong> multiplatform (OS X, Windows, and Linux)</li>\n",
    "    <li style=\"margin-bottom: 15px;\"><strong style=\"color: #0d47a1;\">Scalability:</strong> it handles large datasets</li>\n",
    "    <li style=\"margin-bottom: 15px;\"><strong style=\"color: #0d47a1;\">Cloud Integration:</strong> AWS, Azure, Yarn clusters, etc.</li>\n",
    "    <li style=\"margin-bottom: 15px;\">Used by <strong style=\"color: #0d47a1;\">multiple organizations</strong> across various vertical market areas</li>\n",
    "  </ul>\n",
    "</div>\n"
   ]
  },
  {
   "cell_type": "markdown",
   "id": "9e754e9e",
   "metadata": {
    "slideshow": {
     "slide_type": "slide"
    }
   },
   "source": [
    "<!-- Container for the Advantages and Disadvantages -->\n",
    "<div style=\"display: flex; justify-content: space-between; font-size: 28px; padding: 0; background-color: #f5f5f5; box-shadow: 0px 4px 8px rgba(0,0,0,0.1);\">\n",
    "  <!-- Advantages Section -->\n",
    "  <div style=\"width: 50%; background-color: #e0f7fa; padding: 20px;\">\n",
    "    <h3 style=\"font-size: 48px; color: #00796b;\"><strong>Advantages</strong></h3>\n",
    "    <ul style=\"list-style-type: none; padding-left: 0;\">\n",
    "      <li style=\"margin-bottom: 10px;\">💪 Performance</li>\n",
    "      <li style=\"margin-bottom: 10px;\">📈 Scalability</li>\n",
    "      <li style=\"margin-bottom: 10px;\">⚙️ Customizability</li>\n",
    "      <li style=\"margin-bottom: 10px;\">🔍 Handling of Missing Values</li>\n",
    "      <li>🧠 Interpretability</li>\n",
    "    </ul>\n",
    "  </div>\n",
    "\n",
    "  <!-- Disadvantages Section -->\n",
    "  <div style=\"width: 50%; background-color: #ffebee; padding: 20px;\">\n",
    "    <h3 style=\"font-size: 48px; color: #d32f2f;\"><strong>Disadvantages</strong></h3>\n",
    "    <ul style=\"list-style-type: none; padding-left: 0;\">\n",
    "      <li style=\"margin-bottom: 10px;\">🖥️ Computational Complexity</li>\n",
    "      <li style=\"margin-bottom: 10px;\">⚠️ Overfitting</li>\n",
    "      <li style=\"margin-bottom: 10px;\">🎛️ Hyperparameter Tuning</li>\n",
    "      <li>💾 Memory Requirements</li>\n",
    "    </ul>\n",
    "  </div>\n",
    "</div>\n"
   ]
  },
  {
   "cell_type": "markdown",
   "id": "c4200e5d",
   "metadata": {
    "slideshow": {
     "slide_type": "slide"
    }
   },
   "source": [
    "<!-- Code Example with smaller font -->\n",
    "<h1 style=\"font-size: 48px; color: #1565c0; text-align: left; margin-bottom: 10px;\">Code Example</h1>\n",
    "\n",
    "<!-- Smaller font size for Acknowledgements and Goal -->\n",
    "<p style=\"font-size: 28px;\"><strong>Acknowledgements:</strong><br>\n",
    "This dataset has been referred from Kaggle: <a href=\"https://www.kaggle.com/c/titanic/data\">https://www.kaggle.com/c/titanic/data</a>.\n",
    "</p>\n",
    "\n",
    "<p style=\"font-size: 28px;\"><strong>Goal:</strong><br>\n",
    "Predict if a passenger survived the sinking of the Titanic or not.\n",
    "</p>\n"
   ]
  },
  {
   "cell_type": "code",
   "execution_count": 2,
   "id": "14a14406",
   "metadata": {
    "slideshow": {
     "slide_type": "notes"
    }
   },
   "outputs": [],
   "source": [
    "# Import packages\n",
    "import pandas as pd\n",
    "from sklearn.preprocessing import LabelEncoder\n",
    "import matplotlib.pyplot as plt\n",
    "import numpy as np\n",
    "import xgboost as xgb\n",
    "from sklearn.model_selection import train_test_split\n",
    "from sklearn.metrics import accuracy_score\n",
    "from sklearn.metrics import confusion_matrix\n",
    "import seaborn as sns\n",
    "\n",
    "# Read data\n",
    "url = 'https://raw.githubusercontent.com/datasciencedojo/datasets/master/titanic.csv'\n",
    "data = pd.read_csv(url)"
   ]
  },
  {
   "cell_type": "code",
   "execution_count": 3,
   "id": "2f7ed0d4",
   "metadata": {
    "slideshow": {
     "slide_type": "fragment"
    }
   },
   "outputs": [
    {
     "data": {
      "text/html": [
       "<div>\n",
       "<style scoped>\n",
       "    .dataframe tbody tr th:only-of-type {\n",
       "        vertical-align: middle;\n",
       "    }\n",
       "\n",
       "    .dataframe tbody tr th {\n",
       "        vertical-align: top;\n",
       "    }\n",
       "\n",
       "    .dataframe thead th {\n",
       "        text-align: right;\n",
       "    }\n",
       "</style>\n",
       "<table border=\"1\" class=\"dataframe\">\n",
       "  <thead>\n",
       "    <tr style=\"text-align: right;\">\n",
       "      <th></th>\n",
       "      <th>PassengerId</th>\n",
       "      <th>Survived</th>\n",
       "      <th>Pclass</th>\n",
       "      <th>Name</th>\n",
       "      <th>Sex</th>\n",
       "      <th>Age</th>\n",
       "      <th>SibSp</th>\n",
       "      <th>Parch</th>\n",
       "      <th>Ticket</th>\n",
       "      <th>Fare</th>\n",
       "      <th>Cabin</th>\n",
       "      <th>Embarked</th>\n",
       "    </tr>\n",
       "  </thead>\n",
       "  <tbody>\n",
       "    <tr>\n",
       "      <th>0</th>\n",
       "      <td>1</td>\n",
       "      <td>0</td>\n",
       "      <td>3</td>\n",
       "      <td>Braund, Mr. Owen Harris</td>\n",
       "      <td>male</td>\n",
       "      <td>22.0</td>\n",
       "      <td>1</td>\n",
       "      <td>0</td>\n",
       "      <td>A/5 21171</td>\n",
       "      <td>7.2500</td>\n",
       "      <td>NaN</td>\n",
       "      <td>S</td>\n",
       "    </tr>\n",
       "    <tr>\n",
       "      <th>1</th>\n",
       "      <td>2</td>\n",
       "      <td>1</td>\n",
       "      <td>1</td>\n",
       "      <td>Cumings, Mrs. John Bradley (Florence Briggs Th...</td>\n",
       "      <td>female</td>\n",
       "      <td>38.0</td>\n",
       "      <td>1</td>\n",
       "      <td>0</td>\n",
       "      <td>PC 17599</td>\n",
       "      <td>71.2833</td>\n",
       "      <td>C85</td>\n",
       "      <td>C</td>\n",
       "    </tr>\n",
       "    <tr>\n",
       "      <th>2</th>\n",
       "      <td>3</td>\n",
       "      <td>1</td>\n",
       "      <td>3</td>\n",
       "      <td>Heikkinen, Miss. Laina</td>\n",
       "      <td>female</td>\n",
       "      <td>26.0</td>\n",
       "      <td>0</td>\n",
       "      <td>0</td>\n",
       "      <td>STON/O2. 3101282</td>\n",
       "      <td>7.9250</td>\n",
       "      <td>NaN</td>\n",
       "      <td>S</td>\n",
       "    </tr>\n",
       "    <tr>\n",
       "      <th>3</th>\n",
       "      <td>4</td>\n",
       "      <td>1</td>\n",
       "      <td>1</td>\n",
       "      <td>Futrelle, Mrs. Jacques Heath (Lily May Peel)</td>\n",
       "      <td>female</td>\n",
       "      <td>35.0</td>\n",
       "      <td>1</td>\n",
       "      <td>0</td>\n",
       "      <td>113803</td>\n",
       "      <td>53.1000</td>\n",
       "      <td>C123</td>\n",
       "      <td>S</td>\n",
       "    </tr>\n",
       "    <tr>\n",
       "      <th>4</th>\n",
       "      <td>5</td>\n",
       "      <td>0</td>\n",
       "      <td>3</td>\n",
       "      <td>Allen, Mr. William Henry</td>\n",
       "      <td>male</td>\n",
       "      <td>35.0</td>\n",
       "      <td>0</td>\n",
       "      <td>0</td>\n",
       "      <td>373450</td>\n",
       "      <td>8.0500</td>\n",
       "      <td>NaN</td>\n",
       "      <td>S</td>\n",
       "    </tr>\n",
       "  </tbody>\n",
       "</table>\n",
       "</div>"
      ],
      "text/plain": [
       "   PassengerId  Survived  Pclass  \\\n",
       "0            1         0       3   \n",
       "1            2         1       1   \n",
       "2            3         1       3   \n",
       "3            4         1       1   \n",
       "4            5         0       3   \n",
       "\n",
       "                                                Name     Sex   Age  SibSp  \\\n",
       "0                            Braund, Mr. Owen Harris    male  22.0      1   \n",
       "1  Cumings, Mrs. John Bradley (Florence Briggs Th...  female  38.0      1   \n",
       "2                             Heikkinen, Miss. Laina  female  26.0      0   \n",
       "3       Futrelle, Mrs. Jacques Heath (Lily May Peel)  female  35.0      1   \n",
       "4                           Allen, Mr. William Henry    male  35.0      0   \n",
       "\n",
       "   Parch            Ticket     Fare Cabin Embarked  \n",
       "0      0         A/5 21171   7.2500   NaN        S  \n",
       "1      0          PC 17599  71.2833   C85        C  \n",
       "2      0  STON/O2. 3101282   7.9250   NaN        S  \n",
       "3      0            113803  53.1000  C123        S  \n",
       "4      0            373450   8.0500   NaN        S  "
      ]
     },
     "execution_count": 3,
     "metadata": {},
     "output_type": "execute_result"
    }
   ],
   "source": [
    "# See dataset\n",
    "data.head()"
   ]
  },
  {
   "cell_type": "code",
   "execution_count": 3,
   "id": "f24b3b75",
   "metadata": {
    "slideshow": {
     "slide_type": "notes"
    }
   },
   "outputs": [
    {
     "name": "stderr",
     "output_type": "stream",
     "text": [
      "/var/folders/cf/338qfnxs24sfpk82l090cs080000gp/T/ipykernel_12972/3023097976.py:4: FutureWarning: A value is trying to be set on a copy of a DataFrame or Series through chained assignment using an inplace method.\n",
      "The behavior will change in pandas 3.0. This inplace method will never work because the intermediate object on which we are setting values always behaves as a copy.\n",
      "\n",
      "For example, when doing 'df[col].method(value, inplace=True)', try using 'df.method({col: value}, inplace=True)' or df[col] = df[col].method(value) instead, to perform the operation inplace on the original object.\n",
      "\n",
      "\n",
      "  data['Age'].fillna(data['Age'].median(), inplace=True)\n",
      "/var/folders/cf/338qfnxs24sfpk82l090cs080000gp/T/ipykernel_12972/3023097976.py:5: FutureWarning: A value is trying to be set on a copy of a DataFrame or Series through chained assignment using an inplace method.\n",
      "The behavior will change in pandas 3.0. This inplace method will never work because the intermediate object on which we are setting values always behaves as a copy.\n",
      "\n",
      "For example, when doing 'df[col].method(value, inplace=True)', try using 'df.method({col: value}, inplace=True)' or df[col] = df[col].method(value) instead, to perform the operation inplace on the original object.\n",
      "\n",
      "\n",
      "  data['Embarked'].fillna(data['Embarked'].mode()[0], inplace=True)\n"
     ]
    }
   ],
   "source": [
    "# Data preprocessing\n",
    "data.drop(['PassengerId', 'Name', 'Ticket','Cabin'], axis=1, inplace=True)\n",
    "data['Sex'] = data['Sex'].map({'male': 0, 'female': 1})\n",
    "data['Age'].fillna(data['Age'].median(), inplace=True)\n",
    "data['Embarked'].fillna(data['Embarked'].mode()[0], inplace=True)\n",
    "data = pd.get_dummies(data, columns=['Embarked', 'Pclass'], drop_first=True)\n",
    "\n",
    "# Separate independent variables and target variable\n",
    "X = data.drop('Survived', axis=1)\n",
    "y = data['Survived']\n",
    "\n",
    "# Split Data\n",
    "X_train, X_test, y_train, y_test = train_test_split(X, y, test_size=0.2, random_state=42)"
   ]
  },
  {
   "cell_type": "markdown",
   "id": "f431569f",
   "metadata": {
    "slideshow": {
     "slide_type": "slide"
    }
   },
   "source": [
    "### Most common hyper-parameters"
   ]
  },
  {
   "cell_type": "code",
   "execution_count": 5,
   "id": "24513f1d",
   "metadata": {
    "slideshow": {
     "slide_type": "fragment"
    }
   },
   "outputs": [],
   "source": [
    "# Most common hyperparameters\n",
    "params = {\n",
    "    # Core Parameters\n",
    "    'booster': 'gbtree',            # Common options: 'gbtree' (tree-based), 'dart' (dropout-based), 'gblinear' (linear)\n",
    "    'objective': 'binary:logistic', # Common for binary classification. Use 'reg:squarederror' for regression\n",
    "    'eval_metric': 'error',         # Evaluation metric, e.g., 'rmse' for regression, 'error' for classification\n",
    "\n",
    "    # Tree Booster Parameters\n",
    "    'max_depth': 6,                 # Maximum depth of trees (controls model complexity, higher means more complexity)\n",
    "    'learning_rate': 0.1,           # Also known as 'eta', the step size shrinkage (reduces the contribution of each tree)\n",
    "    'gamma': 0,                     # Minimum loss reduction required to make a further partition (regularization)\n",
    "    'min_child_weight': 1,          # Minimum sum of instance weight needed in a child (controls overfitting)\n",
    "    'subsample': 0.8,               # Fraction of training data used for each boosting round (to prevent overfitting)\n",
    "    'colsample_bytree': 0.8,        # Fraction of features used for constructing each tree (controls overfitting)\n",
    "    \n",
    "    # Regularization Parameters\n",
    "    'lambda': 1,                    # L2 regularization (penalizes large coefficients, helps prevent overfitting)\n",
    "    'alpha': 0,                     # L1 regularization (can add sparsity to the model)\n",
    "\n",
    "    # Training Parameters\n",
    "    'n_estimators': 1000,           # Number of boosting rounds (number of trees)\n",
    "    'early_stopping_rounds': 10,    # Stops training if the evaluation metric doesn’t improve for 10 rounds\n",
    "    'seed': 42,                     # Random seed for reproducibility\n",
    "    'nthread': -1,                  # Number of parallel threads used (default: use all threads)\n",
    "\n",
    "    # GPU Parameters (Optional)\n",
    "    'gpu_id': 0,                    # Use GPU for training if available (-1 means CPU only)\n",
    "    'predictor': 'auto',            # Automatically choose between CPU and GPU for prediction\n",
    "}"
   ]
  },
  {
   "cell_type": "markdown",
   "id": "fb22de3b",
   "metadata": {
    "slideshow": {
     "slide_type": "slide"
    }
   },
   "source": [
    "### Our choices "
   ]
  },
  {
   "cell_type": "code",
   "execution_count": 4,
   "id": "73a712e9",
   "metadata": {
    "slideshow": {
     "slide_type": "fragment"
    }
   },
   "outputs": [
    {
     "name": "stdout",
     "output_type": "stream",
     "text": [
      "Best error rate: 0.1686 (iteration: 6)\n"
     ]
    }
   ],
   "source": [
    "#Create the XGBoost Model\n",
    "dtrain = xgb.DMatrix(X_train, label=y_train)\n",
    "\n",
    "# Set hyperparameters\n",
    "params = {\n",
    "    'max_depth': 6,                     # Depth of each tree\n",
    "    'eta': 0.16,                        # Learning rate\n",
    "    'objective': 'binary:logistic',    \n",
    "    'eval_metric': 'error',\n",
    "    'gamma' : 1,                        # Loss for a Split    \n",
    "    'lambda': 1,                        # L2 Regularization\n",
    "}\n",
    "\n",
    "# Train with cross validation\n",
    "cv_results = xgb.cv(\n",
    "    params=params,\n",
    "    dtrain=dtrain,\n",
    "    num_boost_round=1000,\n",
    "    nfold=5,\n",
    "    metrics=['error'],\n",
    "    early_stopping_rounds=10,\n",
    "    stratified=True,\n",
    "    seed=42\n",
    ")\n",
    "\n",
    "best_iteration = cv_results['test-error-mean'].idxmin()\n",
    "best_error = cv_results.loc[best_iteration, 'test-error-mean']\n",
    "print(f\"Best error rate: {best_error:.4f} (iteration: {best_iteration+1})\")"
   ]
  },
  {
   "cell_type": "code",
   "execution_count": 7,
   "id": "5eaca4ae",
   "metadata": {
    "slideshow": {
     "slide_type": "notes"
    }
   },
   "outputs": [
    {
     "name": "stdout",
     "output_type": "stream",
     "text": [
      "Test accuracy: 0.8212290502793296\n"
     ]
    },
    {
     "data": {
      "image/png": "[encoded data removed]",
      "text/plain": [
       "<Figure size 800x600 with 1 Axes>"
      ]
     },
     "metadata": {},
     "output_type": "display_data"
    }
   ],
   "source": [
    "#Test Model\n",
    "dtest = xgb.DMatrix(X_test)\n",
    "\n",
    "best_model = xgb.train(params, dtrain, num_boost_round=best_iteration+1)\n",
    "\n",
    "predictions = best_model.predict(dtest)\n",
    "predictions = [round(value) for value in predictions]\n",
    "\n",
    "accuracy = accuracy_score(y_test, predictions)\n",
    "print(\"Test accuracy:\", accuracy)\n",
    "\n",
    "# Generate the confusion matrix\n",
    "cm = confusion_matrix(y_test, predictions)\n",
    "\n",
    "# Plot the confusion matrix\n",
    "plt.figure(figsize=(8, 6))\n",
    "sns.heatmap(cm, annot=True, fmt='g', cmap='Blues', cbar=False)\n",
    "plt.xlabel('Predicted')\n",
    "plt.ylabel('Actual')\n",
    "plt.title('Confusion Matrix')\n",
    "plt.show()"
   ]
  },
  {
   "cell_type": "code",
   "execution_count": 8,
   "id": "f6de0338",
   "metadata": {
    "slideshow": {
     "slide_type": "slide"
    }
   },
   "outputs": [
    {
     "name": "stdout",
     "output_type": "stream",
     "text": [
      "Test accuracy: 0.8212290502793296\n"
     ]
    },
    {
     "data": {
      "image/png": "[encoded data removed]",
      "text/plain": [
       "<Figure size 800x600 with 1 Axes>"
      ]
     },
     "metadata": {},
     "output_type": "display_data"
    }
   ],
   "source": [
    "print(\"Test accuracy:\", accuracy)\n",
    "\n",
    "# Plot confusion matrix\n",
    "plt.show()"
   ]
  },
  {
   "cell_type": "markdown",
   "id": "ad2e93d5",
   "metadata": {
    "slideshow": {
     "slide_type": "slide"
    }
   },
   "source": [
    "<div style=\"background-color: #f0f4f8; padding: 30px; border-radius: 10px; box-shadow: 0px 4px 10px rgba(0,0,0,0.1);\">\n",
    "  <h2 style=\"font-size: 48px; text-align: center; color: #d32f2f; margin-bottom: 25px;\"><strong>When should you not use it?</strong></h2>\n",
    "  \n",
    "  <!-- List of reasons not to use XGBoost -->\n",
    "  <ul style=\"font-size: 28px; line-height: 1.8; padding-left: 0; list-style-type: none;\">\n",
    "    <li style=\"margin-bottom: 15px;\">\n",
    "      <strong style=\"color: #d32f2f;\">Small dataset</strong> (< 100 data samples)\n",
    "    </li>\n",
    "    <li style=\"margin-bottom: 15px;\">\n",
    "      <strong style=\"color: #d32f2f;\">Unstructured data</strong> (better suited for Deep Learning):\n",
    "      <ul style=\"font-size: 28px; margin-top: 10px;\">\n",
    "        <li style=\"margin-bottom: 10px;\">- Image recognition</li>\n",
    "        <li style=\"margin-bottom: 10px;\">- Computer vision</li>\n",
    "        <li style=\"margin-bottom: 10px;\">- Natural language processing</li>\n",
    "        <li style=\"margin-bottom: 10px;\">- Speech processing</li>\n",
    "      </ul>\n",
    "    </li>\n",
    "  </ul>\n",
    "\n",
    "  <!-- Source link -->\n",
    "  <p style=\"font-size: 14px; text-align: center; margin-top\n"
   ]
  },
  {
   "cell_type": "markdown",
   "id": "f3e11a8d",
   "metadata": {
    "slideshow": {
     "slide_type": "slide"
    }
   },
   "source": [
    "<!-- Key Takeaways Section -->\n",
    "<div style=\"background-color: #e8f5e9; padding: 20px; border-radius: 10px; box-shadow: 0px 4px 8px rgba(0,0,0,0.1); margin-top: 20px;\">\n",
    "  <h2 style=\"font-size: 48px; text-align: center; color: #2e7d32; margin-bottom: 20px;\"><strong>Key Takeaways</strong></h2>\n",
    "\n",
    "  <!-- List of key points -->\n",
    "  <ul style=\"font-size: 28px; list-style-type: none; padding-left: 0; line-height: 1.8;\">\n",
    "    <li style=\"margin-bottom: 15px;\">\n",
    "      🔥 <strong style=\"color: #d32f2f;\">XGBoost</strong>: An optimized and regularized implementation of gradient boosting that is fast, scalable, less prone to overfitting, and highly accurate.\n",
    "    </li>\n",
    "    <li style=\"margin-bottom: 15px;\">\n",
    "      📊 <strong style=\"color: #00796b;\">Use Cases</strong>: Ideal for large datasets requiring high accuracy.\n",
    "    </li>\n",
    "    <li>\n",
    "      🚀 <strong style=\"color: #f57c00;\">Popular Choice</strong>: Due to its speed, performance, and adaptability to different kinds of data.\n",
    "    </li>\n",
    "  </ul>\n",
    "</div>\n"
   ]
  },
  {
   "cell_type": "markdown",
   "id": "1803060b",
   "metadata": {
    "slideshow": {
     "slide_type": "slide"
    }
   },
   "source": [
    "<div style=\"justify-content: center; align-items: center; height: 100vh; text-align: center;\">\n",
    "  <h1 style=\"font-size: 102px; color: #1e88e5; margin: 0; display: block;\">Thank you!</h1>\n",
    "</div>\n"
   ]
  }
 ],
 "metadata": {
  "celltoolbar": "Slideshow",
  "kernelspec": {
   "display_name": "Python 3 (ipykernel)",
   "language": "python",
   "name": "python3"
  },
  "language_info": {
   "codemirror_mode": {
    "name": "ipython",
    "version": 3
   },
   "file_extension": ".py",
   "mimetype": "text/x-python",
   "name": "python",
   "nbconvert_exporter": "python",
   "pygments_lexer": "ipython3",
   "version": "3.11.7"
  },
  "rise": {
   "height": "100%",
   "maxScale": 1,
   "minScale": 1,
   "slideNumber": true,
   "width": "100%"
  }
 },
 "nbformat": 4,
 "nbformat_minor": 5
}
